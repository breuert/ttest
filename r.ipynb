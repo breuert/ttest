{
 "cells": [
  {
   "cell_type": "code",
   "execution_count": 5,
   "id": "014dab99",
   "metadata": {
    "vscode": {
     "languageId": "r"
    }
   },
   "outputs": [
    {
     "data": {
      "text/plain": [
       "\n",
       "\tWelch Two Sample t-test\n",
       "\n",
       "data:  hochschulreife_vater and hauptschule_vater\n",
       "t = 4.3955, df = 2705.4, p-value = 1.148e-05\n",
       "alternative hypothesis: true difference in means is not equal to 0\n",
       "95 percent confidence interval:\n",
       " 0.1178859 0.3077738\n",
       "sample estimates:\n",
       "mean of x mean of y \n",
       " 7.737821  7.524991 \n"
      ]
     },
     "metadata": {},
     "output_type": "display_data"
    }
   ],
   "source": [
    "# Load required packages\n",
    "library(haven)      # for reading .por files\n",
    "library(dplyr)      # for data manipulation\n",
    "library(stats)      # for t-test\n",
    "\n",
    "# Load the dataset\n",
    "df <- read_por(\"./data/ZA4584_v1-0-0.por/ZA4584_v1-0-0.por\")\n",
    "\n",
    "# Define survey years of interest\n",
    "selected_years <- c(2010, 2012, 2014)\n",
    "\n",
    "# Filter the dataset to include only relevant years\n",
    "df_filtered <- df %>% filter(YEAR %in% selected_years)\n",
    "\n",
    "# Map father's education levels to labels\n",
    "# V1234 is the father's education variable\n",
    "# V545 is the life satisfaction variable\n",
    "\n",
    "# Extract respondents' life satisfaction scores by father's education\n",
    "life_satisfaction_by_fathers_education <- list(\n",
    "  \"Kein Abschluss (Vater)\" = df_filtered %>%\n",
    "    filter(V1234 %in% 1, V545 <= 10) %>%\n",
    "    pull(V545),\n",
    "  \n",
    "  \"Hauptschule (Vater)\" = df_filtered %>%\n",
    "    filter(V1234 %in% 2, V545 <= 10) %>%\n",
    "    pull(V545),\n",
    "  \n",
    "  \"Mittlere Reife (Vater)\" = df_filtered %>%\n",
    "    filter(V1234 %in% 3, V545 <= 10) %>%\n",
    "    pull(V545),\n",
    "  \n",
    "  \"(Fach-)Hochschulreife (Vater)\" = df_filtered %>%\n",
    "    filter(V1234 %in% c(4, 5), V545 <= 10) %>%\n",
    "    pull(V545)\n",
    ")\n",
    "\n",
    "# Optionally access each group as a vector\n",
    "kein_abschluss_vater <- life_satisfaction_by_fathers_education[[\"Kein Abschluss (Vater)\"]]\n",
    "hauptschule_vater <- life_satisfaction_by_fathers_education[[\"Hauptschule (Vater)\"]]\n",
    "mittlere_reife_vater <- life_satisfaction_by_fathers_education[[\"Mittlere Reife (Vater)\"]]\n",
    "hochschulreife_vater <- life_satisfaction_by_fathers_education[[\"(Fach-)Hochschulreife (Vater)\"]]\n",
    "\n",
    "# Perform Welch's t-test (unequal variance)\n",
    "t.test(hochschulreife_vater, hauptschule_vater,\n",
    "       alternative = \"two.sided\", var.equal = FALSE, na.rm = TRUE)\n",
    "\n"
   ]
  }
 ],
 "metadata": {
  "kernelspec": {
   "display_name": "R",
   "language": "R",
   "name": "ir"
  },
  "language_info": {
   "codemirror_mode": "r",
   "file_extension": ".r",
   "mimetype": "text/x-r-source",
   "name": "R",
   "pygments_lexer": "r",
   "version": "4.5.0"
  }
 },
 "nbformat": 4,
 "nbformat_minor": 5
}
